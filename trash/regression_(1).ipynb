{
  "cells": [
    {
      "cell_type": "code",
      "execution_count": null,
      "metadata": {
        "id": "gE76T8J7IsGC"
      },
      "outputs": [],
      "source": [
        "#@title Copyright 2019 The Lifetime Value Authors.\n",
        "# Licensed under the Apache License, Version 2.0 (the \"License\");\n",
        "# you may not use this file except in compliance with the License.\n",
        "# You may obtain a copy of the License at\n",
        "#\n",
        "#     https://www.apache.org/licenses/LICENSE-2.0\n",
        "#\n",
        "# Unless required by applicable law or agreed to in writing, software\n",
        "# distributed under the License is distributed on an \"AS IS\" BASIS,\n",
        "# WITHOUT WARRANTIES OR CONDITIONS OF ANY KIND, either express or implied.\n",
        "# See the License for the specific language governing permissions and\n",
        "# limitations under the License.\n",
        "# ============================================================================"
      ]
    },
    {
      "cell_type": "markdown",
      "metadata": {
        "id": "sswTFWDv7HZd"
      },
      "source": [
        "# KDD Cup 98 LTV Prediction"
      ]
    },
    {
      "cell_type": "markdown",
      "metadata": {
        "id": "PSr1mSJP7O1J"
      },
      "source": [
        "<table align=\"left\">\n",
        "  <td>\n",
        "    <a target=\"_blank\" href=\"https://colab.research.google.com/github/google/lifetime_value/blob/master/notebooks/kdd_cup_98/regression.ipynb\"><img src=\"https://www.tensorflow.org/images/colab_logo_32px.png\" />Run in Google Colab</a>\n",
        "  </td>\n",
        "  <td>\n",
        "    <a target=\"_blank\" href=\"https://github.com/google/lifetime_value/blob/master/notebooks/kdd_cup_98/regression.ipynb\"><img src=\"https://www.tensorflow.org/images/GitHub-Mark-32px.png\" />View source on GitHub</a>\n",
        "  </td>\n",
        "</table>"
      ]
    },
    {
      "cell_type": "code",
      "execution_count": 1,
      "metadata": {
        "id": "pBXE3Dz3NI4A"
      },
      "outputs": [],
      "source": [
        "import os\n",
        "\n",
        "import numpy as np\n",
        "import pandas as pd\n",
        "from scipy import stats\n",
        "import matplotlib.pyplot as plt\n",
        "import seaborn as sns\n",
        "import tensorflow as tf\n",
        "import tensorflow_probability as tfp\n",
        "from typing import Sequence\n",
        "\n",
        "# install and import ltv\n",
        "import lifetime_value as ltv"
      ]
    },
    {
      "cell_type": "code",
      "execution_count": 2,
      "metadata": {
        "id": "Bq0Ah16lBmgV"
      },
      "outputs": [],
      "source": [
        "tfd = tfp.distributions\n",
        "%config InlineBackend.figure_format='retina'\n",
        "sns.set_style('whitegrid')"
      ]
    },
    {
      "cell_type": "markdown",
      "metadata": {
        "id": "2qN319qZK3IG"
      },
      "source": [
        "## Configs"
      ]
    },
    {
      "cell_type": "code",
      "execution_count": 3,
      "metadata": {
        "id": "hNy_ybw_K19n",
        "cellView": "form"
      },
      "outputs": [],
      "source": [
        "MODEL = 'dnn'\n",
        "LOSS = 'ziln' # @param { isTemplate: true, type: 'string'} ['mse', 'ziln']\n",
        "LEARNING_RATE = 0.001  # @param { isTemplate: true}\n",
        "VERSION = 0 # @param { isTemplate: true, type: 'integer'}\n",
        "OUTPUT_CSV_FOLDER = '/tmp/lifetime-value/kdd_cup_98/result' # @param { isTemplate: true, type: 'string'}"
      ]
    },
    {
      "cell_type": "markdown",
      "metadata": {
        "id": "mDSR921CCEcL"
      },
      "source": [
        "## Load data"
      ]
    },
    {
      "cell_type": "markdown",
      "metadata": {
        "id": "lHxp4rOGI02Q"
      },
      "source": [
        "Download kdd_cup_98 data to /tmp/lifetime-value/kdd_cup_98"
      ]
    },
    {
      "cell_type": "code",
      "execution_count": 4,
      "metadata": {
        "id": "Dg3qtgJyJpdi",
        "colab": {
          "base_uri": "https://localhost:8080/"
        },
        "outputId": "40ecdd4f-7098-487f-c469-227c4afb2023"
      },
      "outputs": [
        {
          "output_type": "stream",
          "name": "stdout",
          "text": [
            "--2024-08-28 09:35:17--  https://kdd.ics.uci.edu/databases/kddcup98/epsilon_mirror/cup98lrn.zip\n",
            "Resolving kdd.ics.uci.edu (kdd.ics.uci.edu)... 128.195.1.86\n",
            "Connecting to kdd.ics.uci.edu (kdd.ics.uci.edu)|128.195.1.86|:443... connected.\n",
            "HTTP request sent, awaiting response... 200 OK\n",
            "Length: 36468735 (35M) [application/zip]\n",
            "Saving to: ‘/tmp/lifetime-value/kdd_cup_98/cup98lrn.zip’\n",
            "\n",
            "cup98lrn.zip        100%[===================>]  34.78M  48.8MB/s    in 0.7s    \n",
            "\n",
            "2024-08-28 09:35:18 (48.8 MB/s) - ‘/tmp/lifetime-value/kdd_cup_98/cup98lrn.zip’ saved [36468735/36468735]\n",
            "\n",
            "--2024-08-28 09:35:18--  https://kdd.ics.uci.edu/databases/kddcup98/epsilon_mirror/cup98val.zip\n",
            "Resolving kdd.ics.uci.edu (kdd.ics.uci.edu)... 128.195.1.86\n",
            "Connecting to kdd.ics.uci.edu (kdd.ics.uci.edu)|128.195.1.86|:443... connected.\n",
            "HTTP request sent, awaiting response... 200 OK\n",
            "Length: 36763018 (35M) [application/zip]\n",
            "Saving to: ‘/tmp/lifetime-value/kdd_cup_98/cup98val.zip’\n",
            "\n",
            "cup98val.zip        100%[===================>]  35.06M  52.6MB/s    in 0.7s    \n",
            "\n",
            "2024-08-28 09:35:19 (52.6 MB/s) - ‘/tmp/lifetime-value/kdd_cup_98/cup98val.zip’ saved [36763018/36763018]\n",
            "\n",
            "--2024-08-28 09:35:19--  https://kdd.ics.uci.edu/databases/kddcup98/epsilon_mirror/valtargt.txt\n",
            "Resolving kdd.ics.uci.edu (kdd.ics.uci.edu)... 128.195.1.86\n",
            "Connecting to kdd.ics.uci.edu (kdd.ics.uci.edu)|128.195.1.86|:443... connected.\n",
            "HTTP request sent, awaiting response... 200 OK\n",
            "Length: 1104529 (1.1M) [text/plain]\n",
            "Saving to: ‘/tmp/lifetime-value/kdd_cup_98/valtargt.txt’\n",
            "\n",
            "valtargt.txt        100%[===================>]   1.05M  5.66MB/s    in 0.2s    \n",
            "\n",
            "2024-08-28 09:35:20 (5.66 MB/s) - ‘/tmp/lifetime-value/kdd_cup_98/valtargt.txt’ saved [1104529/1104529]\n",
            "\n",
            "Archive:  cup98lrn.zip\n",
            "  inflating: cup98LRN.txt            \n",
            "Archive:  cup98val.zip\n",
            "  inflating: cup98VAL.txt            \n"
          ]
        },
        {
          "output_type": "execute_result",
          "data": {
            "text/plain": []
          },
          "metadata": {},
          "execution_count": 4
        }
      ],
      "source": [
        "%%shell\n",
        "mkdir -p /tmp/lifetime-value/kdd_cup_98\n",
        "wget https://kdd.ics.uci.edu/databases/kddcup98/epsilon_mirror/cup98lrn.zip -P /tmp/lifetime-value/kdd_cup_98/\n",
        "wget https://kdd.ics.uci.edu/databases/kddcup98/epsilon_mirror/cup98val.zip -P /tmp/lifetime-value/kdd_cup_98/\n",
        "wget https://kdd.ics.uci.edu/databases/kddcup98/epsilon_mirror/valtargt.txt -P /tmp/lifetime-value/kdd_cup_98/\n",
        "cd /tmp/lifetime-value/kdd_cup_98/\n",
        "unzip cup98lrn.zip\n",
        "unzip cup98val.zip"
      ]
    },
    {
      "cell_type": "code",
      "execution_count": 5,
      "metadata": {
        "id": "a_LnLmQQRlYF",
        "colab": {
          "base_uri": "https://localhost:8080/"
        },
        "outputId": "1381bbce-7b8b-4075-82d9-5a495ceae160"
      },
      "outputs": [
        {
          "output_type": "stream",
          "name": "stderr",
          "text": [
            "<ipython-input-5-8d470a0a4c87>:1: DtypeWarning: Columns (8) have mixed types. Specify dtype option on import or set low_memory=False.\n",
            "  df_train = pd.read_csv('/tmp/lifetime-value/kdd_cup_98/cup98LRN.txt')\n",
            "<ipython-input-5-8d470a0a4c87>:3: DtypeWarning: Columns (8) have mixed types. Specify dtype option on import or set low_memory=False.\n",
            "  df_eval = pd.read_csv('/tmp/lifetime-value/kdd_cup_98/cup98VAL.txt')\n"
          ]
        }
      ],
      "source": [
        "df_train = pd.read_csv('/tmp/lifetime-value/kdd_cup_98/cup98LRN.txt')\n",
        "num_train = df_train.shape[0]\n",
        "df_eval = pd.read_csv('/tmp/lifetime-value/kdd_cup_98/cup98VAL.txt')\n",
        "df_eval_target = pd.read_csv('/tmp/lifetime-value/kdd_cup_98/valtargt.txt')\n",
        "df_eval = df_eval.merge(df_eval_target, on='CONTROLN')"
      ]
    },
    {
      "cell_type": "code",
      "execution_count": 6,
      "metadata": {
        "id": "ggQmy9wiP5M6"
      },
      "outputs": [],
      "source": [
        "df = pd.concat([df_train, df_eval], axis=0, sort=True)"
      ]
    },
    {
      "cell_type": "code",
      "source": [
        "import pandas as pd\n",
        "import numpy as np\n",
        "\n",
        "# Set the random seed for reproducibility\n",
        "np.random.seed(42)\n",
        "\n",
        "# Number of samples\n",
        "n_samples = 1000\n",
        "\n",
        "# Generate 5 continuous variables\n",
        "X = pd.DataFrame({\n",
        "    'var1': np.random.normal(loc=50, scale=10, size=n_samples),\n",
        "    'var2': np.random.normal(loc=100, scale=20, size=n_samples),\n",
        "    'var3': np.random.normal(loc=150, scale=30, size=n_samples),\n",
        "    'var4': np.random.normal(loc=200, scale=40, size=n_samples),\n",
        "    'var5': np.random.normal(loc=250, scale=50, size=n_samples),\n",
        "})\n",
        "\n",
        "# Generate LTV as the target variable (a function of the above variables + some noise)\n",
        "LTV = 2 * X['var1'] + 0.5 * X['var2'] + 0.3 * X['var3'] + 0.1 * X['var4'] + 0.05 * X['var5'] + np.random.normal(loc=0, scale=10, size=n_samples)\n",
        "\n",
        "# Combine into a single DataFrame\n",
        "df = X.copy()\n",
        "df['LTV'] = LTV\n",
        "\n",
        "df.head()\n"
      ],
      "metadata": {
        "colab": {
          "base_uri": "https://localhost:8080/",
          "height": 206
        },
        "id": "KuKyddtv3Xx1",
        "outputId": "1a41cc13-4fa4-46db-cacf-f76a0a31d722"
      },
      "execution_count": 7,
      "outputs": [
        {
          "output_type": "execute_result",
          "data": {
            "text/plain": [
              "        var1        var2        var3        var4        var5         LTV\n",
              "0  54.967142  127.987109  129.744652  123.687698  206.825320  231.323672\n",
              "1  48.617357  118.492674  145.664440  165.584600  248.439826  224.626693\n",
              "2  56.476885  101.192607  126.227402  183.455779  250.900844  214.352483\n",
              "3  65.230299   87.061264  140.761154  275.507506  273.631517  254.151000\n",
              "4  47.658466  113.964466   93.191560  222.262125  181.657082  218.893991"
            ],
            "text/html": [
              "\n",
              "  <div id=\"df-4c0c38af-3e20-40a3-a14e-f23759016eef\" class=\"colab-df-container\">\n",
              "    <div>\n",
              "<style scoped>\n",
              "    .dataframe tbody tr th:only-of-type {\n",
              "        vertical-align: middle;\n",
              "    }\n",
              "\n",
              "    .dataframe tbody tr th {\n",
              "        vertical-align: top;\n",
              "    }\n",
              "\n",
              "    .dataframe thead th {\n",
              "        text-align: right;\n",
              "    }\n",
              "</style>\n",
              "<table border=\"1\" class=\"dataframe\">\n",
              "  <thead>\n",
              "    <tr style=\"text-align: right;\">\n",
              "      <th></th>\n",
              "      <th>var1</th>\n",
              "      <th>var2</th>\n",
              "      <th>var3</th>\n",
              "      <th>var4</th>\n",
              "      <th>var5</th>\n",
              "      <th>LTV</th>\n",
              "    </tr>\n",
              "  </thead>\n",
              "  <tbody>\n",
              "    <tr>\n",
              "      <th>0</th>\n",
              "      <td>54.967142</td>\n",
              "      <td>127.987109</td>\n",
              "      <td>129.744652</td>\n",
              "      <td>123.687698</td>\n",
              "      <td>206.825320</td>\n",
              "      <td>231.323672</td>\n",
              "    </tr>\n",
              "    <tr>\n",
              "      <th>1</th>\n",
              "      <td>48.617357</td>\n",
              "      <td>118.492674</td>\n",
              "      <td>145.664440</td>\n",
              "      <td>165.584600</td>\n",
              "      <td>248.439826</td>\n",
              "      <td>224.626693</td>\n",
              "    </tr>\n",
              "    <tr>\n",
              "      <th>2</th>\n",
              "      <td>56.476885</td>\n",
              "      <td>101.192607</td>\n",
              "      <td>126.227402</td>\n",
              "      <td>183.455779</td>\n",
              "      <td>250.900844</td>\n",
              "      <td>214.352483</td>\n",
              "    </tr>\n",
              "    <tr>\n",
              "      <th>3</th>\n",
              "      <td>65.230299</td>\n",
              "      <td>87.061264</td>\n",
              "      <td>140.761154</td>\n",
              "      <td>275.507506</td>\n",
              "      <td>273.631517</td>\n",
              "      <td>254.151000</td>\n",
              "    </tr>\n",
              "    <tr>\n",
              "      <th>4</th>\n",
              "      <td>47.658466</td>\n",
              "      <td>113.964466</td>\n",
              "      <td>93.191560</td>\n",
              "      <td>222.262125</td>\n",
              "      <td>181.657082</td>\n",
              "      <td>218.893991</td>\n",
              "    </tr>\n",
              "  </tbody>\n",
              "</table>\n",
              "</div>\n",
              "    <div class=\"colab-df-buttons\">\n",
              "\n",
              "  <div class=\"colab-df-container\">\n",
              "    <button class=\"colab-df-convert\" onclick=\"convertToInteractive('df-4c0c38af-3e20-40a3-a14e-f23759016eef')\"\n",
              "            title=\"Convert this dataframe to an interactive table.\"\n",
              "            style=\"display:none;\">\n",
              "\n",
              "  <svg xmlns=\"http://www.w3.org/2000/svg\" height=\"24px\" viewBox=\"0 -960 960 960\">\n",
              "    <path d=\"M120-120v-720h720v720H120Zm60-500h600v-160H180v160Zm220 220h160v-160H400v160Zm0 220h160v-160H400v160ZM180-400h160v-160H180v160Zm440 0h160v-160H620v160ZM180-180h160v-160H180v160Zm440 0h160v-160H620v160Z\"/>\n",
              "  </svg>\n",
              "    </button>\n",
              "\n",
              "  <style>\n",
              "    .colab-df-container {\n",
              "      display:flex;\n",
              "      gap: 12px;\n",
              "    }\n",
              "\n",
              "    .colab-df-convert {\n",
              "      background-color: #E8F0FE;\n",
              "      border: none;\n",
              "      border-radius: 50%;\n",
              "      cursor: pointer;\n",
              "      display: none;\n",
              "      fill: #1967D2;\n",
              "      height: 32px;\n",
              "      padding: 0 0 0 0;\n",
              "      width: 32px;\n",
              "    }\n",
              "\n",
              "    .colab-df-convert:hover {\n",
              "      background-color: #E2EBFA;\n",
              "      box-shadow: 0px 1px 2px rgba(60, 64, 67, 0.3), 0px 1px 3px 1px rgba(60, 64, 67, 0.15);\n",
              "      fill: #174EA6;\n",
              "    }\n",
              "\n",
              "    .colab-df-buttons div {\n",
              "      margin-bottom: 4px;\n",
              "    }\n",
              "\n",
              "    [theme=dark] .colab-df-convert {\n",
              "      background-color: #3B4455;\n",
              "      fill: #D2E3FC;\n",
              "    }\n",
              "\n",
              "    [theme=dark] .colab-df-convert:hover {\n",
              "      background-color: #434B5C;\n",
              "      box-shadow: 0px 1px 3px 1px rgba(0, 0, 0, 0.15);\n",
              "      filter: drop-shadow(0px 1px 2px rgba(0, 0, 0, 0.3));\n",
              "      fill: #FFFFFF;\n",
              "    }\n",
              "  </style>\n",
              "\n",
              "    <script>\n",
              "      const buttonEl =\n",
              "        document.querySelector('#df-4c0c38af-3e20-40a3-a14e-f23759016eef button.colab-df-convert');\n",
              "      buttonEl.style.display =\n",
              "        google.colab.kernel.accessAllowed ? 'block' : 'none';\n",
              "\n",
              "      async function convertToInteractive(key) {\n",
              "        const element = document.querySelector('#df-4c0c38af-3e20-40a3-a14e-f23759016eef');\n",
              "        const dataTable =\n",
              "          await google.colab.kernel.invokeFunction('convertToInteractive',\n",
              "                                                    [key], {});\n",
              "        if (!dataTable) return;\n",
              "\n",
              "        const docLinkHtml = 'Like what you see? Visit the ' +\n",
              "          '<a target=\"_blank\" href=https://colab.research.google.com/notebooks/data_table.ipynb>data table notebook</a>'\n",
              "          + ' to learn more about interactive tables.';\n",
              "        element.innerHTML = '';\n",
              "        dataTable['output_type'] = 'display_data';\n",
              "        await google.colab.output.renderOutput(dataTable, element);\n",
              "        const docLink = document.createElement('div');\n",
              "        docLink.innerHTML = docLinkHtml;\n",
              "        element.appendChild(docLink);\n",
              "      }\n",
              "    </script>\n",
              "  </div>\n",
              "\n",
              "\n",
              "<div id=\"df-12429ec1-7247-40a2-9e28-de538d946616\">\n",
              "  <button class=\"colab-df-quickchart\" onclick=\"quickchart('df-12429ec1-7247-40a2-9e28-de538d946616')\"\n",
              "            title=\"Suggest charts\"\n",
              "            style=\"display:none;\">\n",
              "\n",
              "<svg xmlns=\"http://www.w3.org/2000/svg\" height=\"24px\"viewBox=\"0 0 24 24\"\n",
              "     width=\"24px\">\n",
              "    <g>\n",
              "        <path d=\"M19 3H5c-1.1 0-2 .9-2 2v14c0 1.1.9 2 2 2h14c1.1 0 2-.9 2-2V5c0-1.1-.9-2-2-2zM9 17H7v-7h2v7zm4 0h-2V7h2v10zm4 0h-2v-4h2v4z\"/>\n",
              "    </g>\n",
              "</svg>\n",
              "  </button>\n",
              "\n",
              "<style>\n",
              "  .colab-df-quickchart {\n",
              "      --bg-color: #E8F0FE;\n",
              "      --fill-color: #1967D2;\n",
              "      --hover-bg-color: #E2EBFA;\n",
              "      --hover-fill-color: #174EA6;\n",
              "      --disabled-fill-color: #AAA;\n",
              "      --disabled-bg-color: #DDD;\n",
              "  }\n",
              "\n",
              "  [theme=dark] .colab-df-quickchart {\n",
              "      --bg-color: #3B4455;\n",
              "      --fill-color: #D2E3FC;\n",
              "      --hover-bg-color: #434B5C;\n",
              "      --hover-fill-color: #FFFFFF;\n",
              "      --disabled-bg-color: #3B4455;\n",
              "      --disabled-fill-color: #666;\n",
              "  }\n",
              "\n",
              "  .colab-df-quickchart {\n",
              "    background-color: var(--bg-color);\n",
              "    border: none;\n",
              "    border-radius: 50%;\n",
              "    cursor: pointer;\n",
              "    display: none;\n",
              "    fill: var(--fill-color);\n",
              "    height: 32px;\n",
              "    padding: 0;\n",
              "    width: 32px;\n",
              "  }\n",
              "\n",
              "  .colab-df-quickchart:hover {\n",
              "    background-color: var(--hover-bg-color);\n",
              "    box-shadow: 0 1px 2px rgba(60, 64, 67, 0.3), 0 1px 3px 1px rgba(60, 64, 67, 0.15);\n",
              "    fill: var(--button-hover-fill-color);\n",
              "  }\n",
              "\n",
              "  .colab-df-quickchart-complete:disabled,\n",
              "  .colab-df-quickchart-complete:disabled:hover {\n",
              "    background-color: var(--disabled-bg-color);\n",
              "    fill: var(--disabled-fill-color);\n",
              "    box-shadow: none;\n",
              "  }\n",
              "\n",
              "  .colab-df-spinner {\n",
              "    border: 2px solid var(--fill-color);\n",
              "    border-color: transparent;\n",
              "    border-bottom-color: var(--fill-color);\n",
              "    animation:\n",
              "      spin 1s steps(1) infinite;\n",
              "  }\n",
              "\n",
              "  @keyframes spin {\n",
              "    0% {\n",
              "      border-color: transparent;\n",
              "      border-bottom-color: var(--fill-color);\n",
              "      border-left-color: var(--fill-color);\n",
              "    }\n",
              "    20% {\n",
              "      border-color: transparent;\n",
              "      border-left-color: var(--fill-color);\n",
              "      border-top-color: var(--fill-color);\n",
              "    }\n",
              "    30% {\n",
              "      border-color: transparent;\n",
              "      border-left-color: var(--fill-color);\n",
              "      border-top-color: var(--fill-color);\n",
              "      border-right-color: var(--fill-color);\n",
              "    }\n",
              "    40% {\n",
              "      border-color: transparent;\n",
              "      border-right-color: var(--fill-color);\n",
              "      border-top-color: var(--fill-color);\n",
              "    }\n",
              "    60% {\n",
              "      border-color: transparent;\n",
              "      border-right-color: var(--fill-color);\n",
              "    }\n",
              "    80% {\n",
              "      border-color: transparent;\n",
              "      border-right-color: var(--fill-color);\n",
              "      border-bottom-color: var(--fill-color);\n",
              "    }\n",
              "    90% {\n",
              "      border-color: transparent;\n",
              "      border-bottom-color: var(--fill-color);\n",
              "    }\n",
              "  }\n",
              "</style>\n",
              "\n",
              "  <script>\n",
              "    async function quickchart(key) {\n",
              "      const quickchartButtonEl =\n",
              "        document.querySelector('#' + key + ' button');\n",
              "      quickchartButtonEl.disabled = true;  // To prevent multiple clicks.\n",
              "      quickchartButtonEl.classList.add('colab-df-spinner');\n",
              "      try {\n",
              "        const charts = await google.colab.kernel.invokeFunction(\n",
              "            'suggestCharts', [key], {});\n",
              "      } catch (error) {\n",
              "        console.error('Error during call to suggestCharts:', error);\n",
              "      }\n",
              "      quickchartButtonEl.classList.remove('colab-df-spinner');\n",
              "      quickchartButtonEl.classList.add('colab-df-quickchart-complete');\n",
              "    }\n",
              "    (() => {\n",
              "      let quickchartButtonEl =\n",
              "        document.querySelector('#df-12429ec1-7247-40a2-9e28-de538d946616 button');\n",
              "      quickchartButtonEl.style.display =\n",
              "        google.colab.kernel.accessAllowed ? 'block' : 'none';\n",
              "    })();\n",
              "  </script>\n",
              "</div>\n",
              "\n",
              "    </div>\n",
              "  </div>\n"
            ],
            "application/vnd.google.colaboratory.intrinsic+json": {
              "type": "dataframe",
              "variable_name": "df",
              "summary": "{\n  \"name\": \"df\",\n  \"rows\": 1000,\n  \"fields\": [\n    {\n      \"column\": \"var1\",\n      \"properties\": {\n        \"dtype\": \"number\",\n        \"std\": 9.792159381796756,\n        \"min\": 17.58732659930927,\n        \"max\": 88.52731490654722,\n        \"num_unique_values\": 1000,\n        \"samples\": [\n          55.43360192379935,\n          59.82690983945514,\n          31.591257686683548\n        ],\n        \"semantic_type\": \"\",\n        \"description\": \"\"\n      }\n    },\n    {\n      \"column\": \"var2\",\n      \"properties\": {\n        \"dtype\": \"number\",\n        \"std\": 19.94908754454842,\n        \"min\": 41.19222730671439,\n        \"max\": 163.86215135689721,\n        \"num_unique_values\": 1000,\n        \"samples\": [\n          111.64195406937232,\n          78.64394156841614,\n          97.91101562925057\n        ],\n        \"semantic_type\": \"\",\n        \"description\": \"\"\n      }\n    },\n    {\n      \"column\": \"var3\",\n      \"properties\": {\n        \"dtype\": \"number\",\n        \"std\": 29.50362843306221,\n        \"min\": 59.414635325375244,\n        \"max\": 267.7871311930898,\n        \"num_unique_values\": 1000,\n        \"samples\": [\n          239.5577700781023,\n          160.27013503468865,\n          162.44596501085732\n        ],\n        \"semantic_type\": \"\",\n        \"description\": \"\"\n      }\n    },\n    {\n      \"column\": \"var4\",\n      \"properties\": {\n        \"dtype\": \"number\",\n        \"std\": 41.085301017361196,\n        \"min\": 82.82205239990928,\n        \"max\": 329.7237187837893,\n        \"num_unique_values\": 1000,\n        \"samples\": [\n          100.26916718679689,\n          193.62551071416374,\n          171.41277292038274\n        ],\n        \"semantic_type\": \"\",\n        \"description\": \"\"\n      }\n    },\n    {\n      \"column\": \"var5\",\n      \"properties\": {\n        \"dtype\": \"number\",\n        \"std\": 49.61901066505216,\n        \"min\": 91.16480934019998,\n        \"max\": 405.64551005219204,\n        \"num_unique_values\": 1000,\n        \"samples\": [\n          303.7166502385122,\n          251.70040481140734,\n          275.9435590220061\n        ],\n        \"semantic_type\": \"\",\n        \"description\": \"\"\n      }\n    },\n    {\n      \"column\": \"LTV\",\n      \"properties\": {\n        \"dtype\": \"number\",\n        \"std\": 25.9300087657677,\n        \"min\": 153.93377179680758,\n        \"max\": 321.65709976496163,\n        \"num_unique_values\": 1000,\n        \"samples\": [\n          257.15284671116797,\n          253.12467107094417,\n          195.19384235374775\n        ],\n        \"semantic_type\": \"\",\n        \"description\": \"\"\n      }\n    }\n  ]\n}"
            }
          },
          "metadata": {},
          "execution_count": 7
        }
      ]
    },
    {
      "cell_type": "code",
      "source": [
        "num_train = int(0.8*(df.shape[0]))"
      ],
      "metadata": {
        "id": "WbVT-xPu34Dt"
      },
      "execution_count": 8,
      "outputs": []
    },
    {
      "cell_type": "code",
      "source": [
        "num_train"
      ],
      "metadata": {
        "colab": {
          "base_uri": "https://localhost:8080/"
        },
        "id": "tGBMRFHu369l",
        "outputId": "1ed57e28-ef53-4412-8814-6c742fc20f5a"
      },
      "execution_count": 9,
      "outputs": [
        {
          "output_type": "execute_result",
          "data": {
            "text/plain": [
              "800"
            ]
          },
          "metadata": {},
          "execution_count": 9
        }
      ]
    },
    {
      "cell_type": "code",
      "source": [
        "df_train = df.iloc[:num_train]\n",
        "df_eval = df.iloc[num_train:]\n",
        "df_eval_target = df_eval.LTV\n"
      ],
      "metadata": {
        "id": "n9vbX3_l3za6"
      },
      "execution_count": 10,
      "outputs": []
    },
    {
      "cell_type": "markdown",
      "metadata": {
        "id": "0rgxHpIyjaMH"
      },
      "source": [
        "## Label distribution"
      ]
    },
    {
      "cell_type": "code",
      "execution_count": 11,
      "metadata": {
        "id": "Xmpu_d3YjcFC"
      },
      "outputs": [],
      "source": [
        "y = df['LTV'][:num_train]"
      ]
    },
    {
      "cell_type": "code",
      "execution_count": 12,
      "metadata": {
        "id": "yMr2EDRyK5Sb"
      },
      "outputs": [],
      "source": [
        "def plot_hist_log_scale(y):\n",
        "  max_val = y.max() + 1.\n",
        "  ax = pd.Series(y).hist(\n",
        "      figsize=(8, 5), bins = 10 ** np.linspace(0., np.log10(max_val), 20))\n",
        "\n",
        "  plt.xlabel('Donation ($)')\n",
        "  plt.ylabel('Count')\n",
        "  # plt.title('Histogram of LTV')\n",
        "  plt.xticks(rotation='horizontal')\n",
        "  plt.legend(loc='upper left')\n",
        "  ax.set_xscale('log')\n",
        "  ax.grid(False)\n",
        "  # Hide the right and top spines\n",
        "  ax.spines['right'].set_visible(False)\n",
        "  ax.spines['top'].set_visible(False)\n",
        "  # Only show ticks on the left and bottom spines\n",
        "  ax.yaxis.set_ticks_position('left')\n",
        "  ax.xaxis.set_ticks_position('bottom')\n",
        "  plt.show()\n",
        "\n",
        "  fig = ax.get_figure()\n"
      ]
    },
    {
      "cell_type": "code",
      "execution_count": 13,
      "metadata": {
        "id": "KbwCzGkBOWhH",
        "colab": {
          "base_uri": "https://localhost:8080/",
          "height": 503
        },
        "outputId": "b248e30b-1ca9-4cb8-c2b4-e49ae44fa367"
      },
      "outputs": [
        {
          "output_type": "stream",
          "name": "stderr",
          "text": [
            "WARNING:matplotlib.legend:No artists with labels found to put in legend.  Note that artists whose label start with an underscore are ignored when legend() is called with no argument.\n"
          ]
        },
        {
          "output_type": "display_data",
          "data": {
            "text/plain": [
              "<Figure size 800x500 with 1 Axes>"
            ],
            "image/png": "[encoded data removed]"
          },
          "metadata": {
            "image/png": {
              "width": 695,
              "height": 449
            }
          }
        }
      ],
      "source": [
        "plot_hist_log_scale(y[y>0])"
      ]
    },
    {
      "cell_type": "markdown",
      "metadata": {
        "id": "1XXMLbnlCdlN"
      },
      "source": [
        "## Preprocess features"
      ]
    },
    {
      "cell_type": "markdown",
      "metadata": {
        "id": "GoLg1PvWuCT_"
      },
      "source": [
        "### All"
      ]
    },
    {
      "cell_type": "code",
      "source": [
        "df.columns"
      ],
      "metadata": {
        "colab": {
          "base_uri": "https://localhost:8080/"
        },
        "id": "Ic8fq1S34k4v",
        "outputId": "edca4431-d504-4736-f6d0-f92e4bf198c2"
      },
      "execution_count": 14,
      "outputs": [
        {
          "output_type": "execute_result",
          "data": {
            "text/plain": [
              "Index(['var1', 'var2', 'var3', 'var4', 'var5', 'LTV'], dtype='object')"
            ]
          },
          "metadata": {},
          "execution_count": 14
        }
      ]
    },
    {
      "cell_type": "code",
      "execution_count": 15,
      "metadata": {
        "id": "lSnNgjBCuJdb"
      },
      "outputs": [],
      "source": [
        "NUMERIC_FEATURES = ['var1', 'var2', 'var3', 'var4', 'var5']\n",
        "CATEGORICAL_FEATURES = []\n",
        "ALL_FEATURES = CATEGORICAL_FEATURES + NUMERIC_FEATURES"
      ]
    },
    {
      "cell_type": "markdown",
      "metadata": {
        "id": "8HJBvvCxRPg3"
      },
      "source": [
        "## Train/eval split"
      ]
    },
    {
      "cell_type": "code",
      "source": [
        "y_train = y_train.reshape(-1, 1)\n",
        "y_eval = y_eval.reshape(-1, 1)\n"
      ],
      "metadata": {
        "id": "ZFK1cRPIWh-w"
      },
      "execution_count": null,
      "outputs": []
    },
    {
      "cell_type": "code",
      "execution_count": 23,
      "metadata": {
        "id": "N7BXLB1eHovl"
      },
      "outputs": [],
      "source": [
        "def dnn_split(df):\n",
        "  df_train = df.iloc[:num_train]\n",
        "  df_eval = df.iloc[num_train:]\n",
        "\n",
        "  def feature_dict(df):\n",
        "    features = {k: v.values for k, v in dict(df[CATEGORICAL_FEATURES]).items()}\n",
        "    features['numeric'] = df[NUMERIC_FEATURES].astype('float32').values\n",
        "    return features\n",
        "\n",
        "  x_train, y_train = feature_dict(df_train), df_train['LTV'].astype(\n",
        "      'float32').values\n",
        "  x_eval, y_eval = feature_dict(df_eval), df_eval['LTV'].astype(\n",
        "      'float32').values\n",
        "\n",
        "  return x_train, x_eval, y_train.reshape(-1, 1), y_eval.reshape(-1, 1)"
      ]
    },
    {
      "cell_type": "markdown",
      "metadata": {
        "id": "4yw6fekBtX7X"
      },
      "source": [
        "## Model"
      ]
    },
    {
      "cell_type": "code",
      "execution_count": 24,
      "metadata": {
        "id": "_rIuO0XYtZH2"
      },
      "outputs": [],
      "source": [
        "def embedding_dim(x):\n",
        "  return int(x**.25) + 1\n",
        "\n",
        "\n",
        "\n",
        "\n",
        "\n",
        "\n",
        "def dnn_model(output_units):\n",
        "  numeric_input = tf.keras.layers.Input(\n",
        "      shape=(len(NUMERIC_FEATURES),), name='numeric')\n",
        "\n",
        "\n",
        "  deep_input = tf.keras.layers.concatenate([numeric_input] )\n",
        "  deep_model = tf.keras.Sequential([\n",
        "      tf.keras.layers.Dense(128, activation='relu'),\n",
        "      tf.keras.layers.Dense(128, activation='relu'),\n",
        "      tf.keras.layers.Dense(64, activation='relu'),\n",
        "      tf.keras.layers.Dense(64, activation='relu'),\n",
        "      tf.keras.layers.Dense(units=3),\n",
        "  ])\n",
        "  return tf.keras.Model(\n",
        "      inputs=[numeric_input] , outputs=deep_model(deep_input))"
      ]
    },
    {
      "cell_type": "markdown",
      "metadata": {
        "id": "G5h7X6botcHl"
      },
      "source": [
        "## Loss"
      ]
    },
    {
      "cell_type": "code",
      "execution_count": 25,
      "metadata": {
        "id": "iJ9gpkC6tgP0"
      },
      "outputs": [],
      "source": [
        "if LOSS == 'mse':\n",
        "  loss = tf.keras.losses.MeanSquaredError()\n",
        "  output_units = 1\n",
        "\n",
        "if LOSS == 'ziln':\n",
        "  loss = ltv.zero_inflated_lognormal_loss\n",
        "  output_units = 3"
      ]
    },
    {
      "cell_type": "code",
      "execution_count": 26,
      "metadata": {
        "id": "_afFfIritjCM"
      },
      "outputs": [],
      "source": [
        "x_train, x_eval, y_train, y_eval = dnn_split(df)\n",
        "model = dnn_model(output_units)"
      ]
    },
    {
      "cell_type": "code",
      "execution_count": 27,
      "metadata": {
        "id": "Qj3kI7pyVwzO"
      },
      "outputs": [],
      "source": [
        "model.compile(optimizer=tf.keras.optimizers.Nadam(), loss=loss)"
      ]
    },
    {
      "cell_type": "markdown",
      "metadata": {
        "id": "KZSYxgWdwiXC"
      },
      "source": [
        "## Train"
      ]
    },
    {
      "cell_type": "code",
      "execution_count": 28,
      "metadata": {
        "id": "Nwj9h5ysQDLp"
      },
      "outputs": [],
      "source": [
        "callbacks = [\n",
        "    tf.keras.callbacks.ReduceLROnPlateau(monitor='val_loss', min_lr=1e-6),\n",
        "    tf.keras.callbacks.EarlyStopping(monitor='val_loss', patience=10),\n",
        "]"
      ]
    },
    {
      "cell_type": "code",
      "execution_count": 29,
      "metadata": {
        "id": "Vb5Tnld6hsfx",
        "colab": {
          "base_uri": "https://localhost:8080/"
        },
        "outputId": "e45b302d-f4ee-4561-ed1a-f20016f5833b"
      },
      "outputs": [
        {
          "output_type": "stream",
          "name": "stdout",
          "text": [
            "Epoch 1/200\n",
            "1/1 - 5s - 5s/step - loss: 10.1226 - val_loss: 9.5040 - learning_rate: 0.0010\n",
            "Epoch 2/200\n",
            "1/1 - 0s - 70ms/step - loss: 9.4802 - val_loss: 9.0044 - learning_rate: 0.0010\n",
            "Epoch 3/200\n",
            "1/1 - 0s - 134ms/step - loss: 8.9815 - val_loss: 13.3685 - learning_rate: 0.0010\n",
            "Epoch 4/200\n",
            "1/1 - 0s - 70ms/step - loss: 18.2620 - val_loss: 9.2327 - learning_rate: 0.0010\n",
            "Epoch 5/200\n",
            "1/1 - 0s - 134ms/step - loss: 9.2157 - val_loss: 9.2830 - learning_rate: 0.0010\n",
            "Epoch 6/200\n",
            "1/1 - 0s - 137ms/step - loss: 9.2658 - val_loss: 9.3306 - learning_rate: 0.0010\n",
            "Epoch 7/200\n",
            "1/1 - 0s - 132ms/step - loss: 9.3131 - val_loss: 9.3744 - learning_rate: 0.0010\n",
            "Epoch 8/200\n",
            "1/1 - 0s - 71ms/step - loss: 9.3566 - val_loss: 9.4139 - learning_rate: 0.0010\n",
            "Epoch 9/200\n",
            "1/1 - 0s - 140ms/step - loss: 9.3958 - val_loss: 9.4491 - learning_rate: 0.0010\n",
            "Epoch 10/200\n",
            "1/1 - 0s - 147ms/step - loss: 9.4307 - val_loss: 9.4801 - learning_rate: 0.0010\n",
            "Epoch 11/200\n",
            "1/1 - 0s - 125ms/step - loss: 9.4616 - val_loss: 9.5072 - learning_rate: 0.0010\n",
            "Epoch 12/200\n",
            "1/1 - 0s - 65ms/step - loss: 9.4885 - val_loss: 9.5304 - learning_rate: 0.0010\n"
          ]
        }
      ],
      "source": [
        "history = model.fit(\n",
        "    x=x_train,\n",
        "    y=y_train,\n",
        "    batch_size=2048,\n",
        "    epochs=200,\n",
        "    verbose=2,\n",
        "    callbacks=callbacks,\n",
        "    validation_data=(x_eval, y_eval)).history"
      ]
    },
    {
      "cell_type": "code",
      "execution_count": 30,
      "metadata": {
        "id": "J1sLSUdgvfa6",
        "colab": {
          "base_uri": "https://localhost:8080/",
          "height": 430
        },
        "outputId": "394abb6a-cf3c-4e96-b516-49f3dd7c6ea0"
      },
      "outputs": [
        {
          "output_type": "display_data",
          "data": {
            "text/plain": [
              "<Figure size 640x480 with 1 Axes>"
            ],
            "image/png": "[encoded data removed]"
          },
          "metadata": {
            "image/png": {
              "width": 543,
              "height": 413
            }
          }
        }
      ],
      "source": [
        "pd.DataFrame(history)[['loss', 'val_loss']].plot();"
      ]
    },
    {
      "cell_type": "markdown",
      "metadata": {
        "id": "jRKuZBqhvhT9"
      },
      "source": [
        "## Eval"
      ]
    },
    {
      "cell_type": "code",
      "execution_count": null,
      "metadata": {
        "id": "q9_zNMd3vjNk"
      },
      "outputs": [],
      "source": [
        "if LOSS == 'mse':\n",
        "  y_pred = model.predict(x=x_eval, batch_size=1024).flatten()\n",
        "\n",
        "if LOSS == 'ziln':\n",
        "  logits = model.predict(x=x_eval, batch_size=1024)\n",
        "  y_pred = ltv.zero_inflated_lognormal_pred(logits).numpy().flatten()"
      ]
    },
    {
      "cell_type": "markdown",
      "metadata": {
        "id": "SkfkUMUvUu_E"
      },
      "source": [
        "### Total Profit"
      ]
    },
    {
      "cell_type": "code",
      "execution_count": null,
      "metadata": {
        "id": "AwfWAp8WQuns"
      },
      "outputs": [],
      "source": [
        "unit_costs = [0.4, 0.5, 0.6, 0.68, 0.7, 0.8, 0.9, 1.0]"
      ]
    },
    {
      "cell_type": "code",
      "execution_count": null,
      "metadata": {
        "id": "zqi91dfCUxpx"
      },
      "outputs": [],
      "source": [
        "num_mailed = [np.sum(y_pred > v) for v in unit_costs]\n",
        "num_mailed"
      ]
    },
    {
      "cell_type": "code",
      "execution_count": null,
      "metadata": {
        "id": "ZgFjZUcuhScv"
      },
      "outputs": [],
      "source": [
        "baseline_total_profit = np.sum(y_eval - 0.68)\n",
        "baseline_total_profit"
      ]
    },
    {
      "cell_type": "code",
      "execution_count": null,
      "metadata": {
        "id": "VwsFnin5U-R9"
      },
      "outputs": [],
      "source": [
        "total_profits = [np.sum(y_eval[y_pred > v] - v) for v in unit_costs]\n",
        "total_profits"
      ]
    },
    {
      "cell_type": "markdown",
      "metadata": {
        "id": "zROhsEWxnA5u"
      },
      "source": [
        "### Gini Coefficient"
      ]
    },
    {
      "cell_type": "code",
      "execution_count": null,
      "metadata": {
        "id": "gRsJ7y-632h_"
      },
      "outputs": [],
      "source": [
        "gain = pd.DataFrame({\n",
        "    'lorenz': ltv.cumulative_true(y_eval, y_eval),\n",
        "    'baseline': ltv.cumulative_true(y_eval, x_eval['numeric'][:, 19]),\n",
        "    'model': ltv.cumulative_true(y_eval, y_pred),\n",
        "})"
      ]
    },
    {
      "cell_type": "code",
      "execution_count": null,
      "metadata": {
        "id": "yg-ndbve4AL_"
      },
      "outputs": [],
      "source": [
        "num_customers = np.float32(gain.shape[0])\n",
        "gain['cumulative_customer'] = (np.arange(num_customers) + 1.) / num_customers"
      ]
    },
    {
      "cell_type": "code",
      "execution_count": null,
      "metadata": {
        "id": "WEoAvuCj4OVy"
      },
      "outputs": [],
      "source": [
        "ax = gain[[\n",
        "    'cumulative_customer',\n",
        "    'lorenz',\n",
        "    'baseline',\n",
        "    'model',\n",
        "]].plot(\n",
        "    x='cumulative_customer', figsize=(8, 5), legend=True)\n",
        "\n",
        "ax.legend(['Groundtruth', 'Baseline', 'Model'], loc='lower right')\n",
        "\n",
        "ax.set_xlabel('Cumulative Fraction of Customers')\n",
        "ax.set_xticks(np.arange(0, 1.1, 0.1))\n",
        "ax.set_xlim((0, 1.))\n",
        "\n",
        "ax.set_ylabel('Cumulative Fraction of Total Lifetime Value')\n",
        "ax.set_yticks(np.arange(0, 1.1, 0.1))\n",
        "ax.set_ylim((0, 1.05))\n",
        "ax.set_title('Gain Chart');"
      ]
    },
    {
      "cell_type": "code",
      "execution_count": null,
      "metadata": {
        "id": "kzPqaiNO4iWC"
      },
      "outputs": [],
      "source": [
        "gini = ltv.gini_from_gain(gain[['lorenz', 'baseline', 'model']])\n",
        "gini"
      ]
    },
    {
      "cell_type": "markdown",
      "metadata": {
        "id": "S84RitIa9PBu"
      },
      "source": [
        "### Calibration"
      ]
    },
    {
      "cell_type": "code",
      "execution_count": null,
      "metadata": {
        "id": "X7sKbsEf6RvF"
      },
      "outputs": [],
      "source": [
        "df_decile = ltv.decile_stats(y_eval, y_pred)\n",
        "df_decile"
      ]
    },
    {
      "cell_type": "code",
      "execution_count": null,
      "metadata": {
        "id": "DHdLqUqdL4hf"
      },
      "outputs": [],
      "source": [
        "ax = df_decile[['label_mean', 'pred_mean']].plot.bar(rot=0)\n",
        "\n",
        "ax.set_title('Decile Chart')\n",
        "ax.set_xlabel('Prediction bucket')\n",
        "ax.set_ylabel('Average bucket value')\n",
        "ax.legend(['Label', 'Prediction'], loc='upper left');"
      ]
    },
    {
      "cell_type": "markdown",
      "metadata": {
        "id": "nK6DQ89xU-d4"
      },
      "source": [
        "### Rank Correlation"
      ]
    },
    {
      "cell_type": "code",
      "execution_count": null,
      "metadata": {
        "id": "I9qWGyY3WePz"
      },
      "outputs": [],
      "source": [
        "def spearmanr(\n",
        "    x1: Sequence[float],\n",
        "    x2: Sequence[float]) -> float:\n",
        "  \"\"\"Calculates spearmanr rank correlation coefficient.\n",
        "\n",
        "  See https://docs.scipy.org/doc/scipy/reference/stats.html.\n",
        "\n",
        "  Args:\n",
        "    x1: 1D array_like.\n",
        "    x2: 1D array_like.\n",
        "\n",
        "  Returns:\n",
        "    correlation: float.\n",
        "  \"\"\"\n",
        "  return stats.spearmanr(x1, x2, nan_policy='raise')[0]\n",
        "\n",
        "\n",
        "spearman_corr = spearmanr(y_eval, y_pred)\n",
        "spearman_corr"
      ]
    },
    {
      "cell_type": "markdown",
      "metadata": {
        "id": "-i_AbqhXcurk"
      },
      "source": [
        "### All metrics together"
      ]
    },
    {
      "cell_type": "code",
      "execution_count": null,
      "metadata": {
        "id": "Umqg1-0Bc1HS"
      },
      "outputs": [],
      "source": [
        "df_metrics = pd.DataFrame({\n",
        "    'model': MODEL,\n",
        "    'loss_function': LOSS,\n",
        "    'train_loss': history['loss'][-1],\n",
        "    'eval_loss': history['val_loss'][-1],\n",
        "    'label_positive': np.mean(y_eval > 0),\n",
        "    'label_mean': y_eval.mean(),\n",
        "    'pred_mean': y_pred.mean(),\n",
        "    'decile_mape': df_decile['decile_mape'].mean(),\n",
        "    'baseline_gini': gini['normalized'][1],\n",
        "    'gini': gini['normalized'][2],\n",
        "    'spearman_corr': spearman_corr,\n",
        "}, index=[VERSION])"
      ]
    },
    {
      "cell_type": "code",
      "execution_count": null,
      "metadata": {
        "id": "C_cM2Mc2SB3W"
      },
      "outputs": [],
      "source": [
        "for unit_cost, total_profit in zip(unit_costs, total_profits):\n",
        "  df_metrics['total_profit_{:02d}'.format(int(unit_cost * 100))] = total_profit"
      ]
    },
    {
      "cell_type": "code",
      "execution_count": null,
      "metadata": {
        "id": "iyMvsOtbRrXZ"
      },
      "outputs": [],
      "source": [
        "df_metrics.T"
      ]
    },
    {
      "cell_type": "markdown",
      "metadata": {
        "id": "8uHtLKk1x0IE"
      },
      "source": [
        "## Save"
      ]
    },
    {
      "cell_type": "code",
      "execution_count": null,
      "metadata": {
        "id": "L-fMkqWIm6X6"
      },
      "outputs": [],
      "source": [
        "output_path = OUTPUT_CSV_FOLDER"
      ]
    },
    {
      "cell_type": "code",
      "execution_count": null,
      "metadata": {
        "id": "jpJJAbWEm94h"
      },
      "outputs": [],
      "source": [
        "if not os.path.isdir(output_path):\n",
        "  os.makedirs(output_path)"
      ]
    },
    {
      "cell_type": "code",
      "execution_count": null,
      "metadata": {
        "id": "y4LcrTLOm_4B"
      },
      "outputs": [],
      "source": [
        "output_file = os.path.join(output_path, '{}_regression_{}_{}.csv'.format(MODEL, LOSS, VERSION))"
      ]
    },
    {
      "cell_type": "code",
      "execution_count": null,
      "metadata": {
        "id": "4WOF7a-dnENp"
      },
      "outputs": [],
      "source": [
        "df_metrics.to_csv(output_file, index=False)"
      ]
    }
  ],
  "metadata": {
    "colab": {
      "provenance": []
    },
    "kernelspec": {
      "display_name": "Python 3",
      "name": "python3"
    }
  },
  "nbformat": 4,
  "nbformat_minor": 0
}